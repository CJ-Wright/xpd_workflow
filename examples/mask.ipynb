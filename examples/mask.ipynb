{
 "cells": [
  {
   "cell_type": "code",
   "execution_count": 43,
   "metadata": {},
   "outputs": [],
   "source": [
    "import pyFAI\n",
    "from pyFAI.geometry import Geometry\n",
    "from pyFAI.azimuthalIntegrator import AzimuthalIntegrator\n",
    "import matplotlib.pyplot as plt\n",
    "from skbeam.io.fit2d_save import fit2d_save\n",
    "import numpy as np\n",
    "from tifffile.tifffile import imread\n",
    "import os\n",
    "import scipy.stats as sts"
   ]
  },
  {
   "cell_type": "code",
   "execution_count": 44,
   "metadata": {},
   "outputs": [],
   "source": [
    "# Define some functions for masking\n",
    "def margin_mask(img_shape, edge_size):\n",
    "    \"\"\"\n",
    "    Mask the edge of an image\n",
    "\n",
    "    Parameters\n",
    "    -----------\n",
    "    img_shape: tuple\n",
    "        The shape of the image\n",
    "    edge_size: int\n",
    "        Number of pixels to mask from the edge\n",
    "\n",
    "    Returns\n",
    "    --------\n",
    "    2darray:\n",
    "        The mask array, bad pixels are 0\n",
    "    \"\"\"\n",
    "    mask = np.zeros(img_shape, dtype=bool)\n",
    "    mask[edge_size:-edge_size, edge_size:-edge_size] = True\n",
    "    return mask\n",
    "\n",
    "\n",
    "def ring_blur_mask(img, q, alpha, bins, mask=None):\n",
    "    \"\"\"\n",
    "    Perform a annular mask, which checks the ring statistics and masks any\n",
    "    pixels which have a value greater or less than alpha * std away from the\n",
    "    mean\n",
    "\n",
    "    Parameters\n",
    "    ----------\n",
    "    img: 2darray\n",
    "        The  image\n",
    "    q: 2darray\n",
    "        The  array which maps pixels to Q space\n",
    "    alpha: float or tuple or, 1darray\n",
    "        Then number of acceptable standard deviations, if tuple then we use\n",
    "        a linear distribution of alphas from alpha[0] to alpha[1], if array\n",
    "        then we just use that as the distribution of alphas\n",
    "    mask: 2darray\n",
    "        A starting flattened mask\n",
    "\n",
    "    Returns\n",
    "    --------\n",
    "    2darray:\n",
    "        The mask\n",
    "    \"\"\"\n",
    "\n",
    "    if mask is None:\n",
    "        mask = np.ones(img.shape).astype(bool)\n",
    "    if mask.shape != img.shape:\n",
    "        mask = mask.reshape(img.shape)\n",
    "    msk_img = img[mask]\n",
    "    msk_q = q[mask]\n",
    "\n",
    "    int_q = np.digitize(q, bins[:-1], True) - 1\n",
    "    # integration\n",
    "    mean = sts.binned_statistic(msk_q, msk_img, bins=bins,\n",
    "                                statistic='mean')[0]\n",
    "    std = sts.binned_statistic(msk_q, msk_img, bins=bins,\n",
    "                               statistic=np.std)[0]\n",
    "    if type(alpha) is tuple:\n",
    "        alpha = np.linspace(alpha[0], alpha[1], len(std))\n",
    "    threshold = alpha * std\n",
    "    lower = mean - threshold\n",
    "    upper = mean + threshold\n",
    "\n",
    "    # single out the too low and too high pixels\n",
    "    too_low = img < lower[int_q]\n",
    "    too_hi = img > upper[int_q]\n",
    "\n",
    "    mask *= ~too_low * ~too_hi\n",
    "    return mask.astype(bool)"
   ]
  },
  {
   "cell_type": "code",
   "execution_count": 45,
   "metadata": {},
   "outputs": [
    {
     "data": {
      "text/plain": [
       "Detector Detector\t Spline= None\t PixelSize= 2.000e-04, 2.000e-04 m\nSampleDetDist= 2.499905e-02m\tPONI= 2.047981e-01, 2.045818e-01m\trot1=-0.008726  rot2= 0.000076  rot3= -0.000000 rad\nDirectBeamDist= 25.000mm\tCenter: x=1024.000, y=1024.000 pix\tTilt=0.500 deg  tiltPlanRotation= 0.500 deg"
      ]
     },
     "execution_count": 45,
     "metadata": {},
     "output_type": "execute_result"
    }
   ],
   "source": [
    "# load the pyFAI stuff\n",
    "geo = Geometry()\n",
    "geo.setFit2D(\n",
    "    directDist=25,\n",
    "    tilt=.5,\n",
    "    tiltPlanRotation=.5,\n",
    "    centerX=1024,\n",
    "    centerY=1024,\n",
    "    pixelX=200,\n",
    "    pixelY=200,\n",
    ")"
   ]
  },
  {
   "cell_type": "code",
   "execution_count": 46,
   "metadata": {},
   "outputs": [],
   "source": [
    "# make the radial array\n",
    "r = geo.rArray((2048, 2048))\n",
    "pixel_size = [getattr(geo, a) for a in ['pixel1', 'pixel2']]\n",
    "rres = np.hypot(*pixel_size)\n",
    "rbins = np.arange(np.min(r) - rres / 2., np.max(r) + rres / 2., rres)"
   ]
  },
  {
   "cell_type": "code",
   "execution_count": 47,
   "metadata": {},
   "outputs": [],
   "source": [
    "# put your image path in here\n",
    "path = os.path.expanduser('~/shared/PDFdata/July/X17A/1/FinalSum_1.tif')\n",
    "img = tifffile.imread(path)\n",
    "img = np.flipud(img)"
   ]
  },
  {
   "cell_type": "code",
   "execution_count": 48,
   "metadata": {},
   "outputs": [],
   "source": [
    "margin = 30\n",
    "lower_thresh = 0\n",
    "upper_thresh = None\n",
    "alpha = 2.5\n",
    "tmsk = None"
   ]
  },
  {
   "cell_type": "code",
   "execution_count": 49,
   "metadata": {},
   "outputs": [
    {
     "name": "stderr",
     "output_type": "stream",
     "text": [
      "/home/christopher/mc/envs/dp/lib/python3.5/site-packages/ipykernel/__main__.py:67: RuntimeWarning: invalid value encountered in less\n/home/christopher/mc/envs/dp/lib/python3.5/site-packages/ipykernel/__main__.py:68: RuntimeWarning: invalid value encountered in greater\n"
     ]
    }
   ],
   "source": [
    "if tmsk is None:\n",
    "    tmsk = np.ones(img.shape, dtype=int).astype(bool)\n",
    "if margin:\n",
    "    tmsk *= margin_mask(img.shape, margin)\n",
    "if lower_thresh:\n",
    "    tmsk *= (img > lower_thresh).astype(bool)\n",
    "if upper_thresh:\n",
    "    tmsk *= (img < upper_thresh).astype(bool)\n",
    "if alpha:\n",
    "    tmsk *= ring_blur_mask(img, r, alpha, rbins, mask=tmsk)"
   ]
  },
  {
   "cell_type": "code",
   "execution_count": 50,
   "metadata": {},
   "outputs": [],
   "source": [
    "masked_img = img.copy()\n",
    "masked_img[np.where(~tmsk)] = np.nan"
   ]
  },
  {
   "cell_type": "code",
   "execution_count": null,
   "metadata": {},
   "outputs": [],
   "source": [
    "fig, axs = plt.subplots(1, 3, sharex=True, sharey=True)\n",
    "for ax, data in zip(axs, [img, tmsk, masked_img]):\n",
    "    ax.imshow(data, cmap='viridis')\n",
    "plt.show()"
   ]
  },
  {
   "cell_type": "code",
   "execution_count": null,
   "outputs": [],
   "source": [
    ""
   ]
  }
 ],
 "metadata": {},
 "nbformat": 4,
 "nbformat_minor": 0
}